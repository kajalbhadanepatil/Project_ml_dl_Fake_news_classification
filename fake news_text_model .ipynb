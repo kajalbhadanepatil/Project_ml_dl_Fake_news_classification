{
 "cells": [
  {
   "cell_type": "markdown",
   "id": "d6fa2e75",
   "metadata": {},
   "source": [
    "### Fake news detector \"TEXT\" model"
   ]
  },
  {
   "cell_type": "code",
   "execution_count": 1,
   "id": "45f9c114",
   "metadata": {},
   "outputs": [],
   "source": [
    "# Importing libraries\n",
    "import pandas as pd\n",
    "import numpy as np\n",
    "import matplotlib.pyplot as plt\n",
    "import seaborn as sns\n",
    "import warnings \n",
    "warnings.filterwarnings(\"ignore\")"
   ]
  },
  {
   "cell_type": "code",
   "execution_count": 2,
   "id": "e8f15377",
   "metadata": {},
   "outputs": [],
   "source": [
    "# Read the data \n",
    "train = pd.read_csv(r\"D:\\new Data science class\\project\\capstone 2_dl-NLP-fake news\\train.csv\")"
   ]
  },
  {
   "cell_type": "code",
   "execution_count": 3,
   "id": "d0c65b9c",
   "metadata": {},
   "outputs": [],
   "source": [
    "# Drop nulls \n",
    "train = train.dropna()"
   ]
  },
  {
   "cell_type": "code",
   "execution_count": 4,
   "id": "44cb5233",
   "metadata": {},
   "outputs": [],
   "source": [
    "# Get the Dependent feature\n",
    "\n",
    "X_train=train.drop('label',axis=1)\n",
    "y_train=train['label']"
   ]
  },
  {
   "cell_type": "code",
   "execution_count": 5,
   "id": "ace7c984",
   "metadata": {},
   "outputs": [],
   "source": [
    "# Since we drop Null values from our Dataset ,so we need to Reset Index of our Dataset\n",
    "\n",
    "messages = X_train.copy()\n",
    "messages.reset_index(inplace=True)"
   ]
  },
  {
   "cell_type": "code",
   "execution_count": 6,
   "id": "a059c4b3",
   "metadata": {},
   "outputs": [],
   "source": [
    "# Importing libraries for pre processing \n",
    "\n",
    "import nltk\n",
    "import re\n",
    "from nltk.corpus import stopwords\n",
    "from nltk.stem.porter import PorterStemmer"
   ]
  },
  {
   "cell_type": "code",
   "execution_count": 7,
   "id": "b50f5b41",
   "metadata": {},
   "outputs": [
    {
     "name": "stderr",
     "output_type": "stream",
     "text": [
      "[nltk_data] Downloading package stopwords to\n",
      "[nltk_data]     C:\\Users\\nikaj\\AppData\\Roaming\\nltk_data...\n",
      "[nltk_data]   Package stopwords is already up-to-date!\n"
     ]
    },
    {
     "data": {
      "text/plain": [
       "True"
      ]
     },
     "execution_count": 7,
     "metadata": {},
     "output_type": "execute_result"
    }
   ],
   "source": [
    "nltk.download(\"stopwords\")"
   ]
  },
  {
   "cell_type": "code",
   "execution_count": 9,
   "id": "5c171789",
   "metadata": {},
   "outputs": [
    {
     "data": {
      "text/plain": [
       "'flynn hillari clinton big woman campu breitbart'"
      ]
     },
     "execution_count": 9,
     "metadata": {},
     "output_type": "execute_result"
    }
   ],
   "source": [
    "corpus[1]"
   ]
  },
  {
   "cell_type": "code",
   "execution_count": 13,
   "id": "56a45728",
   "metadata": {},
   "outputs": [
    {
     "name": "stdout",
     "output_type": "stream",
     "text": [
      "Status: 18284 / 18285\r"
     ]
    }
   ],
   "source": [
    "# Preprocessing of text data\n",
    "\n",
    "ps_text = PorterStemmer()\n",
    "corpus_text = []\n",
    "for i in range(0, len(messages)):\n",
    "    print(\"Status: %s / %s\" %(i, len(messages)), end=\"\\r\")\n",
    "    review = re.sub('[^a-zA-Z]', ' ', messages['text'][i])\n",
    "    review = review.lower()\n",
    "    review = review.split()\n",
    "    \n",
    "    review = [ps_text.stem(word) for word in review if not word in stopwords.words('english')]\n",
    "    review = ' '.join(review)\n",
    "    corpus_text.append(review)"
   ]
  },
  {
   "cell_type": "code",
   "execution_count": 14,
   "id": "7548267a",
   "metadata": {},
   "outputs": [
    {
     "data": {
      "text/plain": [
       "'ever get feel life circl roundabout rather head straight line toward intend destin hillari clinton remain big woman campu leafi liber wellesley massachusett everywher els vote like inaugur dress remaind day way miss havisham forev wore wed dress speak great expect hillari rodham overflow year ago first address wellesley graduat class presid colleg inform gather student need debat far could ascertain spokesman kind like democrat primari minu term unknown even seven sister school glad miss adam made clear speak today us us miss rodham told classmat appoint edger bergen charli mccarthi mortim snerd attend bespectacl granni glass award matronli wisdom least john lennon wisdom took issu previou speaker despit becom first win elect seat u senat sinc reconstruct edward brook came critic call empathi goal protestor critic tactic though clinton senior thesi saul alinski lament black power demagogu elitist arrog repress intoler within new left similar word come republican necessit brief rebutt trust rodham iron observ one word ask class rehears want say everyon came said talk trust talk lack trust us way feel other talk trust bust say say feel permeat gener perhap even understood distrust trust bust certainli bust clinton plan certainli even understand peopl distrust whitewat travelg vast conspiraci benghazi miss email clinton found distrust voic friday load compromis road broaden polit horizon distrust american peopl trump edg percent percent question immedi prior novemb elect stood major reason close horizon clinton describ vanquish support embrac lie con altern fact assault truth reason fail explain american peopl chose lie truth histori major among today know well peopl power invent fact attack question mark begin end free societi offer hyperbol like mani peopl emerg hillari clinton embark upon long strang trip high school goldwat girl wellesley colleg republican presid democrat politician clinton drank time place gave degre significantli went idealist cynic comparison two wellesley commenc address show way back lament long leader view polit art possibl challeng practic polit art make appear imposs possibl big woman campu odd woman white hous wonder current station even possibl point ahead ask septemb may ask presid woman famous dub congenit liar bill safir conclud lie mind get stood elect day like find jilt bride wed day inspir danger delus'"
      ]
     },
     "execution_count": 14,
     "metadata": {},
     "output_type": "execute_result"
    }
   ],
   "source": [
    "corpus_text[1]"
   ]
  },
  {
   "cell_type": "code",
   "execution_count": 16,
   "id": "ab2b60f2",
   "metadata": {},
   "outputs": [
    {
     "data": {
      "text/plain": [
       "[3649,\n",
       " 3371,\n",
       " 3884,\n",
       " 2764,\n",
       " 1474,\n",
       " 4431,\n",
       " 3517,\n",
       " 813,\n",
       " 1416,\n",
       " 1183,\n",
       " 4365,\n",
       " 3197,\n",
       " 4772,\n",
       " 1547,\n",
       " 813,\n",
       " 1416,\n",
       " 4004,\n",
       " 803,\n",
       " 55,\n",
       " 2970,\n",
       " 4681,\n",
       " 2493,\n",
       " 4403,\n",
       " 2067,\n",
       " 888,\n",
       " 155,\n",
       " 1229,\n",
       " 1152,\n",
       " 3388,\n",
       " 375,\n",
       " 1625,\n",
       " 3781,\n",
       " 442,\n",
       " 3201,\n",
       " 2428,\n",
       " 1079,\n",
       " 1475,\n",
       " 2100,\n",
       " 3452,\n",
       " 4431,\n",
       " 880,\n",
       " 3649,\n",
       " 1216,\n",
       " 3884,\n",
       " 2908,\n",
       " 124,\n",
       " 98,\n",
       " 357,\n",
       " 268,\n",
       " 442,\n",
       " 3201,\n",
       " 3024,\n",
       " 535,\n",
       " 4431,\n",
       " 1448,\n",
       " 4654,\n",
       " 3517,\n",
       " 2132,\n",
       " 1475,\n",
       " 2908,\n",
       " 3381,\n",
       " 251,\n",
       " 319,\n",
       " 408,\n",
       " 472,\n",
       " 3381,\n",
       " 181,\n",
       " 4677,\n",
       " 1216,\n",
       " 1575,\n",
       " 4841,\n",
       " 509,\n",
       " 4431,\n",
       " 2444,\n",
       " 4940,\n",
       " 1183,\n",
       " 3205,\n",
       " 1217,\n",
       " 4841,\n",
       " 4498,\n",
       " 357,\n",
       " 4431,\n",
       " 3081,\n",
       " 1217,\n",
       " 4498,\n",
       " 1216,\n",
       " 4677,\n",
       " 2528,\n",
       " 3649,\n",
       " 3277,\n",
       " 2313,\n",
       " 4657,\n",
       " 4841,\n",
       " 388,\n",
       " 3657,\n",
       " 3381,\n",
       " 673,\n",
       " 2905,\n",
       " 4231,\n",
       " 1474,\n",
       " 2008,\n",
       " 4431,\n",
       " 955,\n",
       " 4401,\n",
       " 3517,\n",
       " 214,\n",
       " 4657,\n",
       " 4841,\n",
       " 4036,\n",
       " 813,\n",
       " 1416,\n",
       " 2083,\n",
       " 4331,\n",
       " 2428,\n",
       " 4743,\n",
       " 1183,\n",
       " 1475,\n",
       " 3252,\n",
       " 955,\n",
       " 1475,\n",
       " 1427,\n",
       " 3988,\n",
       " 3381,\n",
       " 4607,\n",
       " 824,\n",
       " 4554,\n",
       " 1648,\n",
       " 3914,\n",
       " 813,\n",
       " 1416,\n",
       " 4710,\n",
       " 4772,\n",
       " 4975,\n",
       " 357,\n",
       " 1648,\n",
       " 4431,\n",
       " 3711,\n",
       " 1546,\n",
       " 3657,\n",
       " 3381,\n",
       " 3994,\n",
       " 4149,\n",
       " 1648,\n",
       " 357,\n",
       " 3342,\n",
       " 2291,\n",
       " 4726,\n",
       " 1008,\n",
       " 4749,\n",
       " 3672,\n",
       " 4963,\n",
       " 1460,\n",
       " 4047,\n",
       " 1416,\n",
       " 2970,\n",
       " 1217,\n",
       " 124,\n",
       " 2650,\n",
       " 4307,\n",
       " 3703,\n",
       " 4554,\n",
       " 408,\n",
       " 4871,\n",
       " 2901,\n",
       " 4638,\n",
       " 3454,\n",
       " 1881,\n",
       " 4472,\n",
       " 4619,\n",
       " 1002,\n",
       " 1881,\n",
       " 4749,\n",
       " 1416,\n",
       " 4455,\n",
       " 1475,\n",
       " 124,\n",
       " 2203,\n",
       " 3099,\n",
       " 1183,\n",
       " 4805,\n",
       " 2774,\n",
       " 549,\n",
       " 688,\n",
       " 2248,\n",
       " 3680,\n",
       " 3884,\n",
       " 880,\n",
       " 4122,\n",
       " 3649,\n",
       " 1216,\n",
       " 3884,\n",
       " 683,\n",
       " 3517,\n",
       " 251,\n",
       " 2901,\n",
       " 1416,\n",
       " 4670,\n",
       " 3884,\n",
       " 2077,\n",
       " 3098,\n",
       " 4362,\n",
       " 1216,\n",
       " 2764,\n",
       " 357,\n",
       " 4431,\n",
       " 3517,\n",
       " 1075,\n",
       " 2444,\n",
       " 2633,\n",
       " 2010,\n",
       " 1216,\n",
       " 4677,\n",
       " 2528,\n",
       " 1575,\n",
       " 4841,\n",
       " 2976,\n",
       " 4431,\n",
       " 3517,\n",
       " 1217,\n",
       " 4498,\n",
       " 1460,\n",
       " 1216,\n",
       " 4677,\n",
       " 2528,\n",
       " 2976,\n",
       " 4036,\n",
       " 4657,\n",
       " 548,\n",
       " 2742,\n",
       " 4841,\n",
       " 813,\n",
       " 1416,\n",
       " 1183,\n",
       " 3139,\n",
       " 1644,\n",
       " 3692,\n",
       " 1474,\n",
       " 1241,\n",
       " 913,\n",
       " 1475,\n",
       " 2100,\n",
       " 1709,\n",
       " 1416,\n",
       " 198,\n",
       " 4841,\n",
       " 4498,\n",
       " 2594,\n",
       " 2074,\n",
       " 3815,\n",
       " 4331,\n",
       " 3944,\n",
       " 4554,\n",
       " 1680,\n",
       " 1416,\n",
       " 890,\n",
       " 2493,\n",
       " 3692,\n",
       " 1216,\n",
       " 2061,\n",
       " 357,\n",
       " 4015,\n",
       " 880,\n",
       " 3884,\n",
       " 3139,\n",
       " 2344,\n",
       " 2010,\n",
       " 124,\n",
       " 4709,\n",
       " 932,\n",
       " 1241,\n",
       " 4431,\n",
       " 399,\n",
       " 3681,\n",
       " 4992,\n",
       " 3517,\n",
       " 1416,\n",
       " 1217,\n",
       " 3968,\n",
       " 1075,\n",
       " 535,\n",
       " 150,\n",
       " 3861,\n",
       " 251,\n",
       " 1570,\n",
       " 3376,\n",
       " 2559,\n",
       " 3987,\n",
       " 829,\n",
       " 2764,\n",
       " 1048,\n",
       " 1648,\n",
       " 3987,\n",
       " 829,\n",
       " 1048,\n",
       " 4431,\n",
       " 746,\n",
       " 4939,\n",
       " 2441,\n",
       " 2312,\n",
       " 4182,\n",
       " 1048,\n",
       " 300,\n",
       " 1416,\n",
       " 1644,\n",
       " 3868,\n",
       " 1570,\n",
       " 4023,\n",
       " 698,\n",
       " 4365,\n",
       " 4653,\n",
       " 2908,\n",
       " 124,\n",
       " 195,\n",
       " 1041,\n",
       " 1941,\n",
       " 2764,\n",
       " 4431,\n",
       " 3081,\n",
       " 4677,\n",
       " 2528,\n",
       " 1575,\n",
       " 2080,\n",
       " 1021,\n",
       " 3944,\n",
       " 3700,\n",
       " 904,\n",
       " 1603,\n",
       " 2011,\n",
       " 357,\n",
       " 1294,\n",
       " 124,\n",
       " 1416,\n",
       " 3515,\n",
       " 3283,\n",
       " 680,\n",
       " 1217,\n",
       " 4813,\n",
       " 2719,\n",
       " 4498,\n",
       " 1564,\n",
       " 3446,\n",
       " 3030,\n",
       " 30,\n",
       " 263,\n",
       " 792,\n",
       " 409,\n",
       " 1832,\n",
       " 859,\n",
       " 2913,\n",
       " 1153,\n",
       " 30,\n",
       " 1803,\n",
       " 1217,\n",
       " 3649,\n",
       " 1462,\n",
       " 2488,\n",
       " 2325,\n",
       " 779,\n",
       " 1416,\n",
       " 460,\n",
       " 1093,\n",
       " 2691,\n",
       " 4131,\n",
       " 535,\n",
       " 1317,\n",
       " 3994,\n",
       " 1131,\n",
       " 4176,\n",
       " 3649,\n",
       " 4995,\n",
       " 1217,\n",
       " 424,\n",
       " 98,\n",
       " 268,\n",
       " 442,\n",
       " 3201,\n",
       " 2428,\n",
       " 4365,\n",
       " 3197,\n",
       " 4365,\n",
       " 1021,\n",
       " 3186,\n",
       " 839,\n",
       " 4385,\n",
       " 1290,\n",
       " 1718,\n",
       " 4358,\n",
       " 4947,\n",
       " 1420,\n",
       " 286,\n",
       " 535,\n",
       " 2528,\n",
       " 701,\n",
       " 913,\n",
       " 4719,\n",
       " 2199,\n",
       " 535,\n",
       " 701,\n",
       " 913,\n",
       " 442,\n",
       " 4082,\n",
       " 2522,\n",
       " 1086,\n",
       " 3088,\n",
       " 709,\n",
       " 2448,\n",
       " 1547,\n",
       " 2808,\n",
       " 1444,\n",
       " 639,\n",
       " 3899,\n",
       " 3430,\n",
       " 891,\n",
       " 3454,\n",
       " 2622,\n",
       " 251,\n",
       " 357,\n",
       " 932,\n",
       " 1241,\n",
       " 1086,\n",
       " 3371,\n",
       " 1208,\n",
       " 2245,\n",
       " 2010,\n",
       " 3371,\n",
       " 3805,\n",
       " 956,\n",
       " 1449,\n",
       " 3221,\n",
       " 4365,\n",
       " 4996,\n",
       " 4698,\n",
       " 3805]"
      ]
     },
     "execution_count": 16,
     "metadata": {},
     "output_type": "execute_result"
    }
   ],
   "source": [
    "# One hot encoding \n",
    "from keras.preprocessing.text import one_hot\n",
    "voc_size = 5000\n",
    "onehot_rep = [one_hot(words, voc_size) for words in corpus]\n",
    "onehot_rep[0]"
   ]
  },
  {
   "cell_type": "code",
   "execution_count": 18,
   "id": "244bbbd4",
   "metadata": {},
   "outputs": [
    {
     "data": {
      "text/plain": [
       "array([   0,    0,    0,    0,    0,    0,    0,    0,    0,    0,    0,\n",
       "          0,    0,    0,    0,    0,    0,    0,    0,    0,    0,    0,\n",
       "          0,    0,    0,    0,    0,    0,    0,    0,    0,    0,    0,\n",
       "          0,    0,    0,    0,    0,    0,    0,    0,    0,    0,    0,\n",
       "          0,    0,    0,    0,    0,    0,    0,    0,    0,    0,    0,\n",
       "          0,    0,    0,    0,    0,    0,    0,    0,    0,    0,    0,\n",
       "          0,    0,    0,    0,    0,    0,    0,    0,    0,    0,    0,\n",
       "          0,    0,    0,    0,    0,    0,    0,    0,    0,    0,    0,\n",
       "          0,    0,    0,    0,    0,    0,    0,    0,    0,    0,    0,\n",
       "          0,    0,    0,    0,    0,    0,    0,    0,    0,    0,    0,\n",
       "          0,    0,    0,    0,    0,    0,    0,    0,    0,    0,    0,\n",
       "          0,    0,    0,    0,    0,    0,    0,    0,    0,    0,    0,\n",
       "          0,    0,    0,    0,    0,    0,    0,    0,    0,    0,    0,\n",
       "          0,    0,    0,    0,    0,    0,    0,    0,    0,    0,    0,\n",
       "          0,    0,    0,    0,    0,    0,    0,    0,    0,    0,    0,\n",
       "          0,    0,    0,    0,    0,    0,    0,    0,    0,    0,    0,\n",
       "          0,    0,    0,    0,    0,    0,    0,    0,    0,    0,    0,\n",
       "          0,    0,    0,    0,    0,    0,    0,    0,    0,    0,    0,\n",
       "          0,    0,    0,    0,    0,    0,    0,    0,    0,    0,    0,\n",
       "          0,    0,    0,    0,    0,    0,    0,    0,    0,    0,    0,\n",
       "          0,    0,    0,    0,    0,    0,    0,    0,    0,    0,    0,\n",
       "          0,    0,    0,    0,    0,    0,    0,    0,    0,    0,    0,\n",
       "          0,    0,    0,    0,    0,    0,    0,    0,    0,    0,    0,\n",
       "          0,    0,    0,    0,    0,    0,    0,    0,    0,    0,    0,\n",
       "          0,    0,    0,    0,    0,    0,    0,    0,    0,    0,    0,\n",
       "          0,    0,    0,    0,    0,    0,    0,    0,    0,    0,    0,\n",
       "          0,    0,    0,    0,    0,    0,    0,    0,    0,    0,    0,\n",
       "          0,    0,    0,    0,    0,    0,    0,    0,    0,    0,    0,\n",
       "          0,    0,    0,    0,    0,    0,    0,    0,    0,    0,    0,\n",
       "          0,    0,    0,    0,    0,    0,    0,    0,    0,    0,    0,\n",
       "          0,    0,    0,    0,    0,    0,    0,    0,    0,    0,    0,\n",
       "          0,    0,    0,    0,    0,    0,    0,    0,    0,    0,    0,\n",
       "          0,    0,    0,    0,    0,    0,    0,    0,    0,    0,    0,\n",
       "          0,    0,    0,    0,    0,    0,    0,    0,    0,    0,    0,\n",
       "          0,    0,    0,    0,    0,    0,    0,    0,    0,    0,    0,\n",
       "          0,    0,    0,    0,    0,    0,    0,    0,    0,    0,    0,\n",
       "          0,    0,    0,    0,    0,    0,    0,    0,    0,    0,    0,\n",
       "          0,    0,    0,    0,    0,    0,    0,    0,    0,    0,    0,\n",
       "          0,    0,    0,    0,    0,    0,    0,    0,    0,    0,    0,\n",
       "          0,    0,    0,    0,    0,    0,    0,    0,    0,    0,    0,\n",
       "          0,    0,    0,    0,    0,    0,    0,    0,    0,    0,    0,\n",
       "          0,    0,    0,    0,    0,    0,    0,    0,    0,    0,    0,\n",
       "          0,    0,    0,    0,    0,    0,    0,    0,    0,    0,    0,\n",
       "          0,    0,    0,    0,    0,    0,    0,    0,    0,    0,    0,\n",
       "          0,    0,    0,    0,    0,    0,    0,    0,    0,    0,    0,\n",
       "          0,    0,    0,    0,    0,    0,    0,    0,    0,    0,    0,\n",
       "          0,    0,    0,    0,    0,    0,    0,    0,    0,    0,    0,\n",
       "          0,    0,    0,    0,    0,    0,    0,    0,    0,    0,    0,\n",
       "          0,    0,    0,    0,    0,    0,    0,    0,    0,    0,    0,\n",
       "          0,    0,    0,    0,    0,    0,    0,    0,    0,    0,    0,\n",
       "          0,    0,    0,    0,    0,    0,    0,    0,    0,    0,    0,\n",
       "          0,    0,    0,    0,    0,    0,    0,    0,    0,    0,    0,\n",
       "          0,    0,    0,    0,    0,    0,    0,    0,    0,    0,    0,\n",
       "          0,    0,    0,    0,    0,    0,    0,    0,    0,    0,    0,\n",
       "          0,    0,    0,    0,    0,    0,    0,    0,    0,    0,    0,\n",
       "          0,    0,    0,    0,    0,    0,    0,    0,    0,    0,    0,\n",
       "          0,    0,    0,    0,    0,    0,    0,    0,    0,    0,    0,\n",
       "          0,    0,    0,    0,    0,    0,   84, 4830, 1674, 3939, 1811,\n",
       "        253, 3769, 2248, 3309, 1023, 4653, 3683, 4001,  408,  472, 1782,\n",
       "       1711, 1700, 1437,  387,  709, 1566,  672,  475,  138,   30,  124,\n",
       "       3825,   96, 1447, 1610, 3868, 2509,  460,  622, 1179, 3969,   96,\n",
       "       2747, 2063, 3352,  408, 3352,  706, 3454, 3808, 4566, 3667, 1566,\n",
       "       3186, 2286,  350, 4719,  955, 3730, 2351, 4435, 4476,  829, 1302,\n",
       "       3157, 2676, 1077,  124, 1216, 1393, 4354, 1002, 3796, 2764, 2316,\n",
       "       2956, 1420,   22, 2509, 2067, 3139, 1022, 2747, 2994, 1993, 1993,\n",
       "       2509, 3352, 2077, 2544, 4312, 2802, 2929, 1447, 4948, 4976, 2810,\n",
       "          3, 2316, 3647,  961, 3972, 2013, 4112, 2901, 2761, 3221, 4112,\n",
       "       1845, 4915, 3636, 2924,  841, 4995, 4566, 4871,   23, 3050, 2820,\n",
       "       1670,  784, 4490, 2490, 1351, 4774, 2064, 2374, 4558, 3726,  164,\n",
       "       2064, 3202, 1025,  472, 4122, 4683, 1032,  815, 3588, 4392, 1997,\n",
       "        527,  988,  259, 2899, 1462, 4061, 3839, 1533, 3845, 2263,  805,\n",
       "       1217, 4913,  200,  925, 3538, 3352, 4747, 1724, 3205, 2263, 3098,\n",
       "       2286, 1335,  124, 1546, 3145, 4774, 1620, 4709, 3538, 4709, 1134,\n",
       "       3538, 1993, 3868, 1674, 2164, 4709, 3538, 2441, 1546, 1546, 1674,\n",
       "       1110,   83, 4822, 2764, 3104, 3322, 3538, 2441, 1806, 2441,  472,\n",
       "        460, 1806, 2764, 2892, 3300, 3322,   54, 1750, 1080, 1891, 1685,\n",
       "       2509, 3381,  472, 2444, 3322, 1911, 1185, 2588, 4893, 3268, 3642,\n",
       "       4331, 4308, 3322,  803, 3300, 3370, 1451, 1153, 1153, 2289,  331,\n",
       "       2625,   79,   23, 3921, 2594, 3574, 3216, 4308,  472, 2443, 4075,\n",
       "        779, 1711,  988, 3010, 4564, 1460, 2532, 3552, 3574, 1437,  571,\n",
       "        803, 3300, 3888,  988, 3552,  125, 2594,  970, 2994,  357, 3024,\n",
       "       3300, 1997,  491, 1460, 1606, 2289, 2978, 3005, 1308, 1186,   22,\n",
       "       3220, 4479,  124, 4132, 3300, 2157,  408,  472, 2491, 3443, 4401,\n",
       "       3529, 2538, 3441, 1420, 1097, 3531, 1566, 4719, 1217,  350, 1216,\n",
       "        387,  472, 2444, 1075, 3811,  409, 3000,  816,  214, 3160,  260,\n",
       "        338, 4638, 1566, 2615, 3667,  280, 3868, 4089, 3588, 4401, 3510,\n",
       "        878, 4331, 2734, 4472, 4009, 3579, 4331, 2734, 1570, 4607, 4137,\n",
       "       4472, 1711, 1700, 1437, 1176, 1700,  640, 3649, 1548, 3094, 2646,\n",
       "       2764, 4472, 1132, 3783, 3098, 4706,  251, 3098,  350, 1700, 2461,\n",
       "       3029, 3401,  921, 3148, 3730,  908,  988, 2021, 4830, 3921,   23,\n",
       "       1610,  124, 2344,  434,  229, 3969, 1610, 4096, 3820, 4766])"
      ]
     },
     "execution_count": 18,
     "metadata": {},
     "output_type": "execute_result"
    }
   ],
   "source": [
    "# Text padding \n",
    "from keras.preprocessing.sequence import pad_sequences\n",
    "sent_length_text = 1000\n",
    "embeded_docs_text = pad_sequences(onehot_rep_text,padding= 'pre',maxlen = sent_length_text)\n",
    "embeded_docs_text[1]"
   ]
  },
  {
   "cell_type": "code",
   "execution_count": 19,
   "id": "e932244e",
   "metadata": {},
   "outputs": [
    {
     "data": {
      "text/plain": [
       "((18285, 1000), (18285,))"
      ]
     },
     "execution_count": 19,
     "metadata": {},
     "output_type": "execute_result"
    }
   ],
   "source": [
    "# final train data \n",
    "X_final_text=np.array(embeded_docs_text)\n",
    "y_final_text=np.array(y_train)\n",
    "X_final_text.shape,y_final_text.shape"
   ]
  },
  {
   "cell_type": "code",
   "execution_count": 20,
   "id": "4667ea6f",
   "metadata": {},
   "outputs": [],
   "source": [
    "# Train-test-split \n",
    "from sklearn.model_selection import train_test_split\n",
    "x_train_text, x_test_text, y_train_text, y_test_text = train_test_split(X_final_text, y_final_text, test_size=0.25, random_state=42)"
   ]
  },
  {
   "cell_type": "markdown",
   "id": "6050c6fb",
   "metadata": {},
   "source": [
    "### LSTM_text_model_1"
   ]
  },
  {
   "cell_type": "code",
   "execution_count": null,
   "id": "ad633f37",
   "metadata": {},
   "outputs": [],
   "source": [
    "import tensorflow\n",
    "from tensorflow.keras.layers import Embedding, Dense, LSTM\n",
    "from tensorflow.keras.models import Sequential"
   ]
  },
  {
   "cell_type": "code",
   "execution_count": 23,
   "id": "14859a8a",
   "metadata": {},
   "outputs": [
    {
     "name": "stdout",
     "output_type": "stream",
     "text": [
      "Model: \"sequential\"\n",
      "_________________________________________________________________\n",
      "Layer (type)                 Output Shape              Param #   \n",
      "=================================================================\n",
      "embedding (Embedding)        (None, 1000, 100)         500000    \n",
      "_________________________________________________________________\n",
      "lstm (LSTM)                  (None, 200)               240800    \n",
      "_________________________________________________________________\n",
      "dense (Dense)                (None, 1)                 201       \n",
      "=================================================================\n",
      "Total params: 741,001\n",
      "Trainable params: 741,001\n",
      "Non-trainable params: 0\n",
      "_________________________________________________________________\n",
      "None\n"
     ]
    }
   ],
   "source": [
    "# Build lSTM_text_1 model\n",
    "embedding_vector_feature = 100\n",
    "\n",
    "# creating lstm model\n",
    "model_text_1=Sequential()\n",
    "\n",
    "# creating input layer\n",
    "model_text_1.add(Embedding(voc_size,embedding_vector_feature,input_length=sent_length_text))\n",
    "\n",
    "# adding lstm layer \n",
    "model_text_1.add(LSTM(200))\n",
    "\n",
    "# adding output layer \n",
    "model_text_1.add(Dense(1,activation='sigmoid'))\n",
    "\n",
    "# compiling the model \n",
    "model_text_1.compile(loss='binary_crossentropy', optimizer='adam', metrics=['accuracy'])\n",
    "print(model.summary())"
   ]
  },
  {
   "cell_type": "code",
   "execution_count": 24,
   "id": "bb8eb480",
   "metadata": {},
   "outputs": [
    {
     "name": "stdout",
     "output_type": "stream",
     "text": [
      "Epoch 1/10\n",
      "43/43 [==============================] - 628s 15s/step - loss: 0.5035 - accuracy: 0.7535 - val_loss: 0.2457 - val_accuracy: 0.9008\n",
      "Epoch 2/10\n",
      "43/43 [==============================] - 761s 18s/step - loss: 0.1887 - accuracy: 0.9300 - val_loss: 0.2308 - val_accuracy: 0.9085\n",
      "Epoch 3/10\n",
      "43/43 [==============================] - 1443s 34s/step - loss: 0.1279 - accuracy: 0.9565 - val_loss: 0.2299 - val_accuracy: 0.9132\n",
      "Epoch 4/10\n",
      "43/43 [==============================] - 2261s 53s/step - loss: 0.0905 - accuracy: 0.9723 - val_loss: 0.2437 - val_accuracy: 0.9089\n",
      "Epoch 5/10\n",
      "43/43 [==============================] - 1011s 24s/step - loss: 0.0854 - accuracy: 0.9727 - val_loss: 0.2831 - val_accuracy: 0.8997\n",
      "Epoch 6/10\n",
      "43/43 [==============================] - 1044s 24s/step - loss: 0.0746 - accuracy: 0.9755 - val_loss: 0.2843 - val_accuracy: 0.9089\n",
      "Epoch 7/10\n",
      "43/43 [==============================] - 1053s 24s/step - loss: 0.1135 - accuracy: 0.9568 - val_loss: 0.3142 - val_accuracy: 0.8797\n",
      "Epoch 8/10\n",
      "43/43 [==============================] - 1050s 24s/step - loss: 0.0802 - accuracy: 0.9712 - val_loss: 0.2879 - val_accuracy: 0.9059\n",
      "Epoch 9/10\n",
      "43/43 [==============================] - 1584s 37s/step - loss: 0.0450 - accuracy: 0.9856 - val_loss: 0.3046 - val_accuracy: 0.9070\n",
      "Epoch 10/10\n",
      "43/43 [==============================] - 2538s 59s/step - loss: 0.0373 - accuracy: 0.9886 - val_loss: 0.3520 - val_accuracy: 0.9085\n"
     ]
    }
   ],
   "source": [
    "# train model 1\n",
    "history_text_1 = model_text_1.fit(x_train_text,y_train_text, validation_split=0.2, epochs=10, batch_size=256)"
   ]
  },
  {
   "cell_type": "code",
   "execution_count": 25,
   "id": "93fdd4cf",
   "metadata": {},
   "outputs": [
    {
     "data": {
      "image/png": "[encoded data removed]",
      "text/plain": [
       "<Figure size 432x288 with 1 Axes>"
      ]
     },
     "metadata": {
      "needs_background": "light"
     },
     "output_type": "display_data"
    }
   ],
   "source": [
    "# summarize history for accuracy\n",
    "\n",
    "plt.plot(history_text_1.history['accuracy'])\n",
    "plt.plot(history_text_1.history['val_accuracy'])\n",
    "plt.title('model accuracy')\n",
    "plt.ylabel('accuracy')\n",
    "plt.xlabel('epoch')\n",
    "plt.legend(['train', 'validation'], loc='upper left')\n",
    "plt.show()"
   ]
  },
  {
   "cell_type": "code",
   "execution_count": 26,
   "id": "08496598",
   "metadata": {},
   "outputs": [
    {
     "data": {
      "image/png": "[encoded data removed]",
      "text/plain": [
       "<Figure size 432x288 with 1 Axes>"
      ]
     },
     "metadata": {
      "needs_background": "light"
     },
     "output_type": "display_data"
    }
   ],
   "source": [
    "# summarize history for loss\n",
    "plt.plot(history_text_1.history['loss'])\n",
    "plt.plot(history_text_1.history['val_loss'])\n",
    "plt.title('model loss')\n",
    "plt.ylabel('loss')\n",
    "plt.xlabel('epoch')\n",
    "plt.legend(['train', 'validation'], loc='upper left')\n",
    "plt.show()"
   ]
  },
  {
   "cell_type": "code",
   "execution_count": 31,
   "id": "0b2dbce6",
   "metadata": {},
   "outputs": [],
   "source": [
    "from sklearn.metrics import classification_report,accuracy_score"
   ]
  },
  {
   "cell_type": "code",
   "execution_count": 33,
   "id": "18e4dcfd",
   "metadata": {},
   "outputs": [
    {
     "name": "stdout",
     "output_type": "stream",
     "text": [
      "              precision    recall  f1-score   support\n",
      "\n",
      "           0       0.90      0.95      0.92      2600\n",
      "           1       0.93      0.85      0.89      1972\n",
      "\n",
      "    accuracy                           0.91      4572\n",
      "   macro avg       0.91      0.90      0.91      4572\n",
      "weighted avg       0.91      0.91      0.91      4572\n",
      "\n"
     ]
    }
   ],
   "source": [
    "# Prediction on test data \n",
    "pred_text_1 = model_text_1.predict_classes(x_test_text)\n",
    "cr_text_1 = classification_report(y_test_text,pred_text_1)\n",
    "print(cr_text_1)"
   ]
  },
  {
   "cell_type": "code",
   "execution_count": 42,
   "id": "b9c142bc",
   "metadata": {},
   "outputs": [
    {
     "data": {
      "text/plain": [
       "0.9105424321959755"
      ]
     },
     "execution_count": 42,
     "metadata": {},
     "output_type": "execute_result"
    }
   ],
   "source": [
    "score_text_1 = accuracy_score(y_test_text,pred_text_1)\n",
    "score_text_1"
   ]
  },
  {
   "cell_type": "markdown",
   "id": "93a07758",
   "metadata": {},
   "source": [
    "### LSTM_text_model_2 - adding dropout layer"
   ]
  },
  {
   "cell_type": "code",
   "execution_count": 37,
   "id": "8de6057f",
   "metadata": {},
   "outputs": [
    {
     "name": "stdout",
     "output_type": "stream",
     "text": [
      "Model: \"sequential_4\"\n",
      "_________________________________________________________________\n",
      "Layer (type)                 Output Shape              Param #   \n",
      "=================================================================\n",
      "embedding_4 (Embedding)      (None, 1000, 100)         500000    \n",
      "_________________________________________________________________\n",
      "dropout_2 (Dropout)          (None, 1000, 100)         0         \n",
      "_________________________________________________________________\n",
      "lstm_3 (LSTM)                (None, 100)               80400     \n",
      "_________________________________________________________________\n",
      "dropout_3 (Dropout)          (None, 100)               0         \n",
      "_________________________________________________________________\n",
      "dense_3 (Dense)              (None, 1)                 101       \n",
      "=================================================================\n",
      "Total params: 580,501\n",
      "Trainable params: 580,501\n",
      "Non-trainable params: 0\n",
      "_________________________________________________________________\n",
      "None\n"
     ]
    }
   ],
   "source": [
    "from tensorflow.keras.layers import Dropout\n",
    "\n",
    "#creating model using LSTM\n",
    "model_text_2 = Sequential()\n",
    "\n",
    "# creating embedding layer as input layer\n",
    "model_text_2.add(Embedding(voc_size,embedding_vector_feature,input_length=sent_length_text))\n",
    "model_text_2.add(Dropout(0.5))\n",
    "\n",
    "#adding LSTM layers with 100 neurons\n",
    "model_text_2.add(LSTM(100))\n",
    "model_text_2.add(Dropout(0.3))\n",
    "\n",
    "#adding output layer \n",
    "model_text_2.add(Dense(1,activation=\"sigmoid\"))\n",
    "\n",
    "#compiling the model\n",
    "model_text_2.compile(loss=\"binary_crossentropy\",optimizer=\"adam\",metrics=[\"accuracy\"])\n",
    "\n",
    "print(model_text_2.summary())"
   ]
  },
  {
   "cell_type": "code",
   "execution_count": 38,
   "id": "e8951147",
   "metadata": {},
   "outputs": [
    {
     "name": "stdout",
     "output_type": "stream",
     "text": [
      "Epoch 1/10\n",
      "43/43 [==============================] - 1552s 36s/step - loss: 0.5564 - accuracy: 0.7387 - val_loss: 0.3555 - val_accuracy: 0.8735\n",
      "Epoch 2/10\n",
      "43/43 [==============================] - 1464s 34s/step - loss: 0.2503 - accuracy: 0.9118 - val_loss: 0.2170 - val_accuracy: 0.9183\n",
      "Epoch 3/10\n",
      "43/43 [==============================] - 1588s 37s/step - loss: 0.1422 - accuracy: 0.9521 - val_loss: 0.2154 - val_accuracy: 0.9198\n",
      "Epoch 4/10\n",
      "43/43 [==============================] - 1427s 33s/step - loss: 0.1075 - accuracy: 0.9669 - val_loss: 0.2156 - val_accuracy: 0.9216\n",
      "Epoch 5/10\n",
      "43/43 [==============================] - 1142s 27s/step - loss: 0.0890 - accuracy: 0.9712 - val_loss: 0.2254 - val_accuracy: 0.9183\n",
      "Epoch 6/10\n",
      "43/43 [==============================] - 594s 14s/step - loss: 0.0699 - accuracy: 0.9783 - val_loss: 0.2652 - val_accuracy: 0.9209\n",
      "Epoch 7/10\n",
      "43/43 [==============================] - 594s 14s/step - loss: 0.0591 - accuracy: 0.9814 - val_loss: 0.2921 - val_accuracy: 0.9194\n",
      "Epoch 8/10\n",
      "43/43 [==============================] - 594s 14s/step - loss: 0.0530 - accuracy: 0.9843 - val_loss: 0.3004 - val_accuracy: 0.9165\n",
      "Epoch 9/10\n",
      "43/43 [==============================] - 593s 14s/step - loss: 0.0595 - accuracy: 0.9804 - val_loss: 0.3033 - val_accuracy: 0.9140\n",
      "Epoch 10/10\n",
      "43/43 [==============================] - 594s 14s/step - loss: 0.0358 - accuracy: 0.9899 - val_loss: 0.3364 - val_accuracy: 0.9114\n"
     ]
    }
   ],
   "source": [
    "# train model 2\n",
    "history_text_2 = model_text_2.fit(x_train_text,y_train_text, validation_split=0.2, epochs=10, batch_size=256)"
   ]
  },
  {
   "cell_type": "code",
   "execution_count": 39,
   "id": "9b54392f",
   "metadata": {},
   "outputs": [
    {
     "data": {
      "image/png": "[encoded data removed]",
      "text/plain": [
       "<Figure size 432x288 with 1 Axes>"
      ]
     },
     "metadata": {
      "needs_background": "light"
     },
     "output_type": "display_data"
    }
   ],
   "source": [
    "# summarize history for accuracy\n",
    "\n",
    "plt.plot(history_text_2.history['accuracy'])\n",
    "plt.plot(history_text_2.history['val_accuracy'])\n",
    "plt.title('model accuracy')\n",
    "plt.ylabel('accuracy')\n",
    "plt.xlabel('epoch')\n",
    "plt.legend(['train', 'validation'], loc='upper left')\n",
    "plt.show()"
   ]
  },
  {
   "cell_type": "code",
   "execution_count": 40,
   "id": "3e1fde39",
   "metadata": {},
   "outputs": [
    {
     "data": {
      "image/png": "[encoded data removed]",
      "text/plain": [
       "<Figure size 432x288 with 1 Axes>"
      ]
     },
     "metadata": {
      "needs_background": "light"
     },
     "output_type": "display_data"
    }
   ],
   "source": [
    "# summarize history for loss\n",
    "plt.plot(history_text_2.history['loss'])\n",
    "plt.plot(history_text_2.history['val_loss'])\n",
    "plt.title('model loss')\n",
    "plt.ylabel('loss')\n",
    "plt.xlabel('epoch')\n",
    "plt.legend(['train', 'validation'], loc='upper left')\n",
    "plt.show()"
   ]
  },
  {
   "cell_type": "code",
   "execution_count": 41,
   "id": "9f8feabc",
   "metadata": {},
   "outputs": [
    {
     "name": "stdout",
     "output_type": "stream",
     "text": [
      "              precision    recall  f1-score   support\n",
      "\n",
      "           0       0.94      0.91      0.93      2600\n",
      "           1       0.89      0.93      0.91      1972\n",
      "\n",
      "    accuracy                           0.92      4572\n",
      "   macro avg       0.91      0.92      0.92      4572\n",
      "weighted avg       0.92      0.92      0.92      4572\n",
      "\n"
     ]
    }
   ],
   "source": [
    "# Prediction on test data \n",
    "pred_text_2 = model_text_2.predict_classes(x_test_text)\n",
    "cr_text_2 = classificati on_report(y_test_text,pred_text_2)\n",
    "print(cr_text_2)"
   ]
  },
  {
   "cell_type": "code",
   "execution_count": 43,
   "id": "5dd60e5e",
   "metadata": {},
   "outputs": [
    {
     "data": {
      "text/plain": [
       "0.9175415573053368"
      ]
     },
     "execution_count": 43,
     "metadata": {},
     "output_type": "execute_result"
    }
   ],
   "source": [
    "score_text_2 = accuracy_score(y_test_text,pred_text_2)\n",
    "score_text_2"
   ]
  },
  {
   "cell_type": "markdown",
   "id": "6664ce43",
   "metadata": {},
   "source": [
    "### Evaluation of text model "
   ]
  },
  {
   "cell_type": "code",
   "execution_count": null,
   "id": "17ed287c",
   "metadata": {},
   "outputs": [],
   "source": [
    "results_text = pd.DataFrame([[\"LSTM_text_model_1\",score_text_1],[\"LSTM_text_model_2\",score_text_2],columns =[\"Model\",\"Accuracy\"])"
   ]
  },
  {
   "cell_type": "markdown",
   "id": "31f796a6",
   "metadata": {},
   "source": [
    "* LSTM model with drop out layer gives highest accuracy_score"
   ]
  }
 ],
 "metadata": {
  "kernelspec": {
   "display_name": "Python 3 (ipykernel)",
   "language": "python",
   "name": "python3"
  },
  "language_info": {
   "codemirror_mode": {
    "name": "ipython",
    "version": 3
   },
   "file_extension": ".py",
   "mimetype": "text/x-python",
   "name": "python",
   "nbconvert_exporter": "python",
   "pygments_lexer": "ipython3",
   "version": "3.8.11"
  }
 },
 "nbformat": 4,
 "nbformat_minor": 5
}
